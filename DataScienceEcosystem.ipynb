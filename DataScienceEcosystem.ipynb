{
 "cells": [
  {
   "cell_type": "markdown",
   "id": "f2fd43c9-1b7d-4aac-b396-f63bb8342d6a",
   "metadata": {},
   "source": [
    "<center>\n",
    "    <img src=\"https://cf-courses-data.s3.us.cloud-object-storage.appdomain.cloud/IBMDeveloperSkillsNetwork-DS0105EN-SkillsNetwork/labs/Module2/images/SN_web_lightmode.png\" width=\"300\" alt=\"cognitiveclass.ai logo\">\n",
    "</center>\n"
   ]
  },
  {
   "cell_type": "markdown",
   "id": "f281ffce-62a1-4d46-9a09-0fc390629ada",
   "metadata": {},
   "source": [
    "<h1 style = \" text-align:center; \"> Data Science Tools and Ecosystem </h1>"
   ]
  },
  {
   "cell_type": "markdown",
   "id": "8a8b21e2-84ad-41c4-898e-d0f3322175e4",
   "metadata": {},
   "source": [
    "---"
   ]
  },
  {
   "cell_type": "markdown",
   "id": "9d866542-b9a9-452e-bf86-a34b10f1b459",
   "metadata": {},
   "source": [
    "## In this notebook, Data Science Tools and Ecosystem are summarized."
   ]
  },
  {
   "cell_type": "markdown",
   "id": "549e7502-d34e-4332-a8b8-f446f182e6cd",
   "metadata": {},
   "source": [
    "**Objectives:**\n",
    "\n",
    "- List popular languages for Data Science.\n",
    "- Highlight commonly used libraries by Data Scientists.\n",
    "- List commonly used Tools used in Data Science.\n",
    "- An overview of IMB Watson for Data Science.\n",
    "- An overview of Jupyter Notebook"
   ]
  },
  {
   "cell_type": "markdown",
   "id": "4ae20c8f-985e-48f4-a922-8ace097f0653",
   "metadata": {
    "tags": []
   },
   "source": [
    "### Some of the popular languages that Data Scientists use are:"
   ]
  },
  {
   "cell_type": "markdown",
   "id": "ab36d6d6-050c-4a47-94af-6b97eacdd2f2",
   "metadata": {},
   "source": [
    "<ol>\n",
    "  <li>Python</li>\n",
    "  <li>R</li>\n",
    "  <li>SQL (Structured Query Language)</li>\n",
    "  <li>Julia</li>\n",
    "  <li>SAS (Statistical Analysis System)</li>\n",
    "  <li>Java</li>\n",
    "  <li>Scala</li>\n",
    "  <li>MATLAB</li>\n",
    "  <li>C/C++</li>\n",
    "</ol>\n"
   ]
  },
  {
   "cell_type": "markdown",
   "id": "0973590a-fbad-4720-a721-ac91679bb4c4",
   "metadata": {},
   "source": [
    "### Some of the commonly used libraries used by Data Scientists include:"
   ]
  },
  {
   "cell_type": "markdown",
   "id": "334c156c-4a18-42c7-8ef8-86494489014d",
   "metadata": {},
   "source": [
    "<ul>\n",
    "  <li>NumPy</li>\n",
    "  <li>Pandas</li>\n",
    "  <li>Matplotlib</li>\n",
    "  <li>Seaborn</li>\n",
    "  <li>scikit-learn</li>\n",
    "  <li>Jupyter Notebooks</li>\n",
    "  <li>TensorFlow</li>\n",
    "</ul>\n"
   ]
  },
  {
   "cell_type": "markdown",
   "id": "562dcefd-4459-40e9-917f-1aac3564aa23",
   "metadata": {},
   "source": [
    "| Data Science Tools |\n",
    "|--------------------|\n",
    "| Jupyter Notebook    |\n",
    "| RStudio            |\n",
    "| Visual Studio Code |\n"
   ]
  },
  {
   "cell_type": "markdown",
   "id": "b8feac43-3c80-47bb-93c8-c33f655e158f",
   "metadata": {},
   "source": [
    "### Below are a few examples of evaluating arithmetic expressions in Python"
   ]
  },
  {
   "cell_type": "code",
   "execution_count": 2,
   "id": "ee8c8d3e-8201-47e2-baa0-e1bc63b629e2",
   "metadata": {
    "tags": []
   },
   "outputs": [
    {
     "data": {
      "text/plain": [
       "17"
      ]
     },
     "execution_count": 2,
     "metadata": {},
     "output_type": "execute_result"
    }
   ],
   "source": [
    "# This is a simple arithmetic expression to multiply, then add integers.\n",
    "result = (3 * 4) + 5\n",
    "result"
   ]
  },
  {
   "cell_type": "code",
   "execution_count": 3,
   "id": "f3a89f97-3086-4b1c-b5b4-7c9bbfad31c9",
   "metadata": {
    "tags": []
   },
   "outputs": [
    {
     "data": {
      "text/plain": [
       "3.3333333333333335"
      ]
     },
     "execution_count": 3,
     "metadata": {},
     "output_type": "execute_result"
    }
   ],
   "source": [
    "# This will convert 200 minutes to hours by dividing by 60.\n",
    "minutes = 200\n",
    "hours = minutes / 60\n",
    "hours"
   ]
  },
  {
   "cell_type": "markdown",
   "id": "52f17ace-6c6f-477f-85ce-161774719abf",
   "metadata": {},
   "source": [
    "## Author\n",
    "<hr>"
   ]
  },
  {
   "cell_type": "markdown",
   "id": "c6f58f96-3b6b-465b-a0ee-a84fdd5775b1",
   "metadata": {},
   "source": [
    "[Tayyab Rasheed](https://www.linkedin.com/in/tayyab-rasheed-c135-ph03460077337)"
   ]
  }
 ],
 "metadata": {
  "kernelspec": {
   "display_name": "Python",
   "language": "python",
   "name": "conda-env-python-py"
  },
  "language_info": {
   "codemirror_mode": {
    "name": "ipython",
    "version": 3
   },
   "file_extension": ".py",
   "mimetype": "text/x-python",
   "name": "python",
   "nbconvert_exporter": "python",
   "pygments_lexer": "ipython3",
   "version": "3.7.12"
  }
 },
 "nbformat": 4,
 "nbformat_minor": 5
}
